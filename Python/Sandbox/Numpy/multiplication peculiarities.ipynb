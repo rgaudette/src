{
 "cells": [
  {
   "cell_type": "markdown",
   "metadata": {},
   "source": [
    "Python/Numpy/Scipy have several multiplication peculiarities that we need to be aware of when multiplying arrays, matrices and sparse matrices"
   ]
  },
  {
   "cell_type": "code",
   "execution_count": 2,
   "metadata": {},
   "outputs": [],
   "source": [
    "import numpy as np\n",
    "import scipy.sparse as spspar"
   ]
  },
  {
   "cell_type": "markdown",
   "metadata": {},
   "source": [
    "When using .dot() with sparse matrices, the type of the result depends on the order"
   ]
  },
  {
   "cell_type": "code",
   "execution_count": 5,
   "metadata": {},
   "outputs": [],
   "source": [
    "m = np.matrix(np.arange(9.0))\n",
    "m.shape = (3,3)\n",
    "csrd = spspar.csr_matrix(np.diag([1.0, 1, 1]))"
   ]
  },
  {
   "cell_type": "code",
   "execution_count": 9,
   "metadata": {},
   "outputs": [
    {
     "name": "stdout",
     "output_type": "stream",
     "text": [
      "object\n",
      "[[ <3x3 sparse matrix of type '<class 'numpy.float64'>'\n",
      "\twith 3 stored elements in Compressed Sparse Row format>\n",
      "  <3x3 sparse matrix of type '<class 'numpy.float64'>'\n",
      "\twith 3 stored elements in Compressed Sparse Row format>\n",
      "  <3x3 sparse matrix of type '<class 'numpy.float64'>'\n",
      "\twith 3 stored elements in Compressed Sparse Row format>]\n",
      " [ <3x3 sparse matrix of type '<class 'numpy.float64'>'\n",
      "\twith 3 stored elements in Compressed Sparse Row format>\n",
      "  <3x3 sparse matrix of type '<class 'numpy.float64'>'\n",
      "\twith 3 stored elements in Compressed Sparse Row format>\n",
      "  <3x3 sparse matrix of type '<class 'numpy.float64'>'\n",
      "\twith 3 stored elements in Compressed Sparse Row format>]\n",
      " [ <3x3 sparse matrix of type '<class 'numpy.float64'>'\n",
      "\twith 3 stored elements in Compressed Sparse Row format>\n",
      "  <3x3 sparse matrix of type '<class 'numpy.float64'>'\n",
      "\twith 3 stored elements in Compressed Sparse Row format>\n",
      "  <3x3 sparse matrix of type '<class 'numpy.float64'>'\n",
      "\twith 3 stored elements in Compressed Sparse Row format>]]\n"
     ]
    },
    {
     "name": "stderr",
     "output_type": "stream",
     "text": [
      "c:\\program files\\python36\\lib\\site-packages\\scipy\\sparse\\compressed.py:295: SparseEfficiencyWarning: Comparing sparse matrices using >= and <= is inefficient, using <, >, or !=, instead.\n",
      "  \"using <, >, or !=, instead.\", SparseEfficiencyWarning)\n"
     ]
    },
    {
     "ename": "AttributeError",
     "evalue": "'matrix' object has no attribute 'todense'",
     "output_type": "error",
     "traceback": [
      "\u001b[1;31m---------------------------------------------------------------------------\u001b[0m",
      "\u001b[1;31mAttributeError\u001b[0m                            Traceback (most recent call last)",
      "\u001b[1;32m<ipython-input-9-1c558b6000ad>\u001b[0m in \u001b[0;36m<module>\u001b[1;34m()\u001b[0m\n\u001b[0;32m      3\u001b[0m \u001b[0mprint\u001b[0m\u001b[1;33m(\u001b[0m\u001b[0mmatrix_first\u001b[0m\u001b[1;33m.\u001b[0m\u001b[0mdtype\u001b[0m\u001b[1;33m)\u001b[0m\u001b[1;33m\u001b[0m\u001b[0m\n\u001b[0;32m      4\u001b[0m \u001b[0mprint\u001b[0m\u001b[1;33m(\u001b[0m\u001b[0mmatrix_first\u001b[0m\u001b[1;33m)\u001b[0m\u001b[1;33m\u001b[0m\u001b[0m\n\u001b[1;32m----> 5\u001b[1;33m \u001b[0mprint\u001b[0m\u001b[1;33m(\u001b[0m\u001b[0mmatrix_first\u001b[0m\u001b[1;33m.\u001b[0m\u001b[0mtodense\u001b[0m\u001b[1;33m(\u001b[0m\u001b[1;33m)\u001b[0m\u001b[1;33m)\u001b[0m\u001b[1;33m\u001b[0m\u001b[0m\n\u001b[0m\u001b[0;32m      6\u001b[0m \u001b[0mprint\u001b[0m\u001b[1;33m(\u001b[0m\u001b[0mcsrd\u001b[0m\u001b[1;33m.\u001b[0m\u001b[0mdtype\u001b[0m\u001b[1;33m)\u001b[0m\u001b[1;33m\u001b[0m\u001b[0m\n\u001b[0;32m      7\u001b[0m \u001b[0mprint\u001b[0m\u001b[1;33m(\u001b[0m\u001b[0mcsrd_first\u001b[0m\u001b[1;33m)\u001b[0m\u001b[1;33m\u001b[0m\u001b[0m\n",
      "\u001b[1;31mAttributeError\u001b[0m: 'matrix' object has no attribute 'todense'"
     ]
    }
   ],
   "source": [
    "matrix_first = m.dot(csrd)\n",
    "csrd_first = csrd.dot(m)\n",
    "print(matrix_first.dtype)\n",
    "print(matrix_first)\n",
    "print(matrix_first.todense())\n",
    "print(csrd.dtype)\n",
    "print(csrd_first)"
   ]
  },
  {
   "cell_type": "markdown",
   "metadata": {},
   "source": [
    "Note above when the dense matrix is on the left, the result is of dtype=object and can not be even be converted to a dense matrix."
   ]
  }
 ],
 "metadata": {
  "kernelspec": {
   "display_name": "Python 3",
   "language": "python",
   "name": "python3"
  },
  "language_info": {
   "codemirror_mode": {
    "name": "ipython",
    "version": 3
   },
   "file_extension": ".py",
   "mimetype": "text/x-python",
   "name": "python",
   "nbconvert_exporter": "python",
   "pygments_lexer": "ipython3",
   "version": "3.6.1"
  }
 },
 "nbformat": 4,
 "nbformat_minor": 2
}
