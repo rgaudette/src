{
 "cells": [
  {
   "cell_type": "markdown",
   "metadata": {},
   "source": [
    "# Example usage of the matplotlib mgrid and ogrid functions"
   ]
  },
  {
   "cell_type": "code",
   "execution_count": 1,
   "metadata": {},
   "outputs": [
    {
     "name": "stdout",
     "output_type": "stream",
     "text": [
      "Using matplotlib backend: Qt5Agg\n",
      "Populating the interactive namespace from numpy and matplotlib\n"
     ]
    }
   ],
   "source": [
    "%pylab"
   ]
  },
  {
   "cell_type": "markdown",
   "metadata": {},
   "source": [
    "# 2D arrays"
   ]
  },
  {
   "cell_type": "markdown",
   "metadata": {},
   "source": [
    "First, consider 2D arrays.  If we have a 2D function sampled uniformly on a 0.5 unit grid over the range of $x = [0, x_{sup})$, and $y = [0, y_{sup})$, with $x_{sup} = 4$ and $y_{sup} = 3$, this results in a $6x8$ matrix of sample values. If we want to calculate the $x$ and $y$ locations for each sample in the matrix we can use _mgrid_ in the following manner"
   ]
  },
  {
   "cell_type": "code",
   "execution_count": 29,
   "metadata": {},
   "outputs": [
    {
     "name": "stdout",
     "output_type": "stream",
     "text": [
      "(2, 6, 8)\n"
     ]
    }
   ],
   "source": [
    "step = 0.5\n",
    "x_sup = 4\n",
    "y_sup = 3\n",
    "mg = mgrid[0:y_sup:step, 0:x_sup:step]\n",
    "print(mg.shape)"
   ]
  },
  {
   "cell_type": "markdown",
   "metadata": {},
   "source": [
    "."
   ]
  },
  {
   "cell_type": "markdown",
   "metadata": {},
   "source": [
    "The $y$ locations are returned in the first plane"
   ]
  },
  {
   "cell_type": "code",
   "execution_count": 15,
   "metadata": {},
   "outputs": [
    {
     "data": {
      "text/plain": [
       "array([[0. , 0. , 0. , 0. , 0. , 0. , 0. , 0. ],\n",
       "       [0.5, 0.5, 0.5, 0.5, 0.5, 0.5, 0.5, 0.5],\n",
       "       [1. , 1. , 1. , 1. , 1. , 1. , 1. , 1. ],\n",
       "       [1.5, 1.5, 1.5, 1.5, 1.5, 1.5, 1.5, 1.5],\n",
       "       [2. , 2. , 2. , 2. , 2. , 2. , 2. , 2. ],\n",
       "       [2.5, 2.5, 2.5, 2.5, 2.5, 2.5, 2.5, 2.5]])"
      ]
     },
     "execution_count": 15,
     "metadata": {},
     "output_type": "execute_result"
    }
   ],
   "source": [
    "mg[0, :, :]"
   ]
  },
  {
   "cell_type": "markdown",
   "metadata": {},
   "source": [
    ", and are changing with the row index of the matrix.  The $x$ locations are returned in the second plane"
   ]
  },
  {
   "cell_type": "code",
   "execution_count": 16,
   "metadata": {},
   "outputs": [
    {
     "data": {
      "text/plain": [
       "array([[0. , 0.5, 1. , 1.5, 2. , 2.5, 3. , 3.5],\n",
       "       [0. , 0.5, 1. , 1.5, 2. , 2.5, 3. , 3.5],\n",
       "       [0. , 0.5, 1. , 1.5, 2. , 2.5, 3. , 3.5],\n",
       "       [0. , 0.5, 1. , 1.5, 2. , 2.5, 3. , 3.5],\n",
       "       [0. , 0.5, 1. , 1.5, 2. , 2.5, 3. , 3.5],\n",
       "       [0. , 0.5, 1. , 1.5, 2. , 2.5, 3. , 3.5]])"
      ]
     },
     "execution_count": 16,
     "metadata": {},
     "output_type": "execute_result"
    }
   ],
   "source": [
    "mg[1, :, :]"
   ]
  },
  {
   "cell_type": "markdown",
   "metadata": {},
   "source": [
    "and are changing with column index of the matrix."
   ]
  },
  {
   "cell_type": "markdown",
   "metadata": {},
   "source": [
    "In both cases the size of the location matrices is the same as the size of the sampled function.  If we want to know the sample position of the element at $i_y = 4$ and $j_x$ = 6, we would use"
   ]
  },
  {
   "cell_type": "code",
   "execution_count": 12,
   "metadata": {},
   "outputs": [
    {
     "name": "stdout",
     "output_type": "stream",
     "text": [
      "2.0\n",
      "3.0\n"
     ]
    }
   ],
   "source": [
    "print(mg[0, 4, 6])\n",
    "print(mg[1, 4, 6])"
   ]
  },
  {
   "cell_type": "markdown",
   "metadata": {},
   "source": [
    ".\n",
    "# 3D arrays"
   ]
  },
  {
   "cell_type": "markdown",
   "metadata": {},
   "source": [
    "Now, let's extend the problem to 3 dimensions by adding a third dimension $z = [0:z_{sup}), z_{sup} = 2$ to the function being sampled.\n",
    "\n"
   ]
  },
  {
   "cell_type": "code",
   "execution_count": 30,
   "metadata": {},
   "outputs": [
    {
     "name": "stdout",
     "output_type": "stream",
     "text": [
      "(3, 4, 6, 8)\n"
     ]
    }
   ],
   "source": [
    "z_sup = 2\n",
    "mg = mgrid[0:z_sup:step, 0:y_sup:step, 0:x_sup:step]\n",
    "print(mg.shape)"
   ]
  },
  {
   "cell_type": "markdown",
   "metadata": {},
   "source": [
    "Now the $z$ locations are stored in the first ndarray (volume)"
   ]
  },
  {
   "cell_type": "code",
   "execution_count": 31,
   "metadata": {},
   "outputs": [
    {
     "data": {
      "text/plain": [
       "array([[[0. , 0. , 0. , 0. , 0. , 0. , 0. , 0. ],\n",
       "        [0. , 0. , 0. , 0. , 0. , 0. , 0. , 0. ],\n",
       "        [0. , 0. , 0. , 0. , 0. , 0. , 0. , 0. ],\n",
       "        [0. , 0. , 0. , 0. , 0. , 0. , 0. , 0. ],\n",
       "        [0. , 0. , 0. , 0. , 0. , 0. , 0. , 0. ],\n",
       "        [0. , 0. , 0. , 0. , 0. , 0. , 0. , 0. ]],\n",
       "\n",
       "       [[0.5, 0.5, 0.5, 0.5, 0.5, 0.5, 0.5, 0.5],\n",
       "        [0.5, 0.5, 0.5, 0.5, 0.5, 0.5, 0.5, 0.5],\n",
       "        [0.5, 0.5, 0.5, 0.5, 0.5, 0.5, 0.5, 0.5],\n",
       "        [0.5, 0.5, 0.5, 0.5, 0.5, 0.5, 0.5, 0.5],\n",
       "        [0.5, 0.5, 0.5, 0.5, 0.5, 0.5, 0.5, 0.5],\n",
       "        [0.5, 0.5, 0.5, 0.5, 0.5, 0.5, 0.5, 0.5]],\n",
       "\n",
       "       [[1. , 1. , 1. , 1. , 1. , 1. , 1. , 1. ],\n",
       "        [1. , 1. , 1. , 1. , 1. , 1. , 1. , 1. ],\n",
       "        [1. , 1. , 1. , 1. , 1. , 1. , 1. , 1. ],\n",
       "        [1. , 1. , 1. , 1. , 1. , 1. , 1. , 1. ],\n",
       "        [1. , 1. , 1. , 1. , 1. , 1. , 1. , 1. ],\n",
       "        [1. , 1. , 1. , 1. , 1. , 1. , 1. , 1. ]],\n",
       "\n",
       "       [[1.5, 1.5, 1.5, 1.5, 1.5, 1.5, 1.5, 1.5],\n",
       "        [1.5, 1.5, 1.5, 1.5, 1.5, 1.5, 1.5, 1.5],\n",
       "        [1.5, 1.5, 1.5, 1.5, 1.5, 1.5, 1.5, 1.5],\n",
       "        [1.5, 1.5, 1.5, 1.5, 1.5, 1.5, 1.5, 1.5],\n",
       "        [1.5, 1.5, 1.5, 1.5, 1.5, 1.5, 1.5, 1.5],\n",
       "        [1.5, 1.5, 1.5, 1.5, 1.5, 1.5, 1.5, 1.5]]])"
      ]
     },
     "execution_count": 31,
     "metadata": {},
     "output_type": "execute_result"
    }
   ],
   "source": [
    "mg[0, :, :, :]"
   ]
  },
  {
   "cell_type": "markdown",
   "metadata": {},
   "source": [
    ", and are changing with the plannar index of the 3D array.  The $y$ locations are returned in the second ndarray (volume)"
   ]
  },
  {
   "cell_type": "code",
   "execution_count": 32,
   "metadata": {},
   "outputs": [
    {
     "data": {
      "text/plain": [
       "array([[[0. , 0. , 0. , 0. , 0. , 0. , 0. , 0. ],\n",
       "        [0.5, 0.5, 0.5, 0.5, 0.5, 0.5, 0.5, 0.5],\n",
       "        [1. , 1. , 1. , 1. , 1. , 1. , 1. , 1. ],\n",
       "        [1.5, 1.5, 1.5, 1.5, 1.5, 1.5, 1.5, 1.5],\n",
       "        [2. , 2. , 2. , 2. , 2. , 2. , 2. , 2. ],\n",
       "        [2.5, 2.5, 2.5, 2.5, 2.5, 2.5, 2.5, 2.5]],\n",
       "\n",
       "       [[0. , 0. , 0. , 0. , 0. , 0. , 0. , 0. ],\n",
       "        [0.5, 0.5, 0.5, 0.5, 0.5, 0.5, 0.5, 0.5],\n",
       "        [1. , 1. , 1. , 1. , 1. , 1. , 1. , 1. ],\n",
       "        [1.5, 1.5, 1.5, 1.5, 1.5, 1.5, 1.5, 1.5],\n",
       "        [2. , 2. , 2. , 2. , 2. , 2. , 2. , 2. ],\n",
       "        [2.5, 2.5, 2.5, 2.5, 2.5, 2.5, 2.5, 2.5]],\n",
       "\n",
       "       [[0. , 0. , 0. , 0. , 0. , 0. , 0. , 0. ],\n",
       "        [0.5, 0.5, 0.5, 0.5, 0.5, 0.5, 0.5, 0.5],\n",
       "        [1. , 1. , 1. , 1. , 1. , 1. , 1. , 1. ],\n",
       "        [1.5, 1.5, 1.5, 1.5, 1.5, 1.5, 1.5, 1.5],\n",
       "        [2. , 2. , 2. , 2. , 2. , 2. , 2. , 2. ],\n",
       "        [2.5, 2.5, 2.5, 2.5, 2.5, 2.5, 2.5, 2.5]],\n",
       "\n",
       "       [[0. , 0. , 0. , 0. , 0. , 0. , 0. , 0. ],\n",
       "        [0.5, 0.5, 0.5, 0.5, 0.5, 0.5, 0.5, 0.5],\n",
       "        [1. , 1. , 1. , 1. , 1. , 1. , 1. , 1. ],\n",
       "        [1.5, 1.5, 1.5, 1.5, 1.5, 1.5, 1.5, 1.5],\n",
       "        [2. , 2. , 2. , 2. , 2. , 2. , 2. , 2. ],\n",
       "        [2.5, 2.5, 2.5, 2.5, 2.5, 2.5, 2.5, 2.5]]])"
      ]
     },
     "execution_count": 32,
     "metadata": {},
     "output_type": "execute_result"
    }
   ],
   "source": [
    "mg[1, :, :, :]"
   ]
  },
  {
   "cell_type": "markdown",
   "metadata": {},
   "source": [
    ", and are changing with the row index of the 3D array.  The $x$ locations are returned in the last ndarray (volume)"
   ]
  },
  {
   "cell_type": "code",
   "execution_count": 33,
   "metadata": {},
   "outputs": [
    {
     "data": {
      "text/plain": [
       "array([[[0. , 0.5, 1. , 1.5, 2. , 2.5, 3. , 3.5],\n",
       "        [0. , 0.5, 1. , 1.5, 2. , 2.5, 3. , 3.5],\n",
       "        [0. , 0.5, 1. , 1.5, 2. , 2.5, 3. , 3.5],\n",
       "        [0. , 0.5, 1. , 1.5, 2. , 2.5, 3. , 3.5],\n",
       "        [0. , 0.5, 1. , 1.5, 2. , 2.5, 3. , 3.5],\n",
       "        [0. , 0.5, 1. , 1.5, 2. , 2.5, 3. , 3.5]],\n",
       "\n",
       "       [[0. , 0.5, 1. , 1.5, 2. , 2.5, 3. , 3.5],\n",
       "        [0. , 0.5, 1. , 1.5, 2. , 2.5, 3. , 3.5],\n",
       "        [0. , 0.5, 1. , 1.5, 2. , 2.5, 3. , 3.5],\n",
       "        [0. , 0.5, 1. , 1.5, 2. , 2.5, 3. , 3.5],\n",
       "        [0. , 0.5, 1. , 1.5, 2. , 2.5, 3. , 3.5],\n",
       "        [0. , 0.5, 1. , 1.5, 2. , 2.5, 3. , 3.5]],\n",
       "\n",
       "       [[0. , 0.5, 1. , 1.5, 2. , 2.5, 3. , 3.5],\n",
       "        [0. , 0.5, 1. , 1.5, 2. , 2.5, 3. , 3.5],\n",
       "        [0. , 0.5, 1. , 1.5, 2. , 2.5, 3. , 3.5],\n",
       "        [0. , 0.5, 1. , 1.5, 2. , 2.5, 3. , 3.5],\n",
       "        [0. , 0.5, 1. , 1.5, 2. , 2.5, 3. , 3.5],\n",
       "        [0. , 0.5, 1. , 1.5, 2. , 2.5, 3. , 3.5]],\n",
       "\n",
       "       [[0. , 0.5, 1. , 1.5, 2. , 2.5, 3. , 3.5],\n",
       "        [0. , 0.5, 1. , 1.5, 2. , 2.5, 3. , 3.5],\n",
       "        [0. , 0.5, 1. , 1.5, 2. , 2.5, 3. , 3.5],\n",
       "        [0. , 0.5, 1. , 1.5, 2. , 2.5, 3. , 3.5],\n",
       "        [0. , 0.5, 1. , 1.5, 2. , 2.5, 3. , 3.5],\n",
       "        [0. , 0.5, 1. , 1.5, 2. , 2.5, 3. , 3.5]]])"
      ]
     },
     "execution_count": 33,
     "metadata": {},
     "output_type": "execute_result"
    }
   ],
   "source": [
    "mg[2, :, :, :]"
   ]
  },
  {
   "cell_type": "markdown",
   "metadata": {},
   "source": [
    "and are changing with column index of each plane within the ndarray (volume)."
   ]
  },
  {
   "cell_type": "markdown",
   "metadata": {},
   "source": [
    "TODO: \n",
    "* describe the ogrid and nd_grid\n",
    "* describe the effect of using a complex number as the last argument to specify the number of elements in each dimension instead of the step size (similar to using linspace)"
   ]
  },
  {
   "cell_type": "code",
   "execution_count": null,
   "metadata": {},
   "outputs": [],
   "source": []
  }
 ],
 "metadata": {
  "kernelspec": {
   "display_name": "Python 3",
   "language": "python",
   "name": "python3"
  },
  "language_info": {
   "codemirror_mode": {
    "name": "ipython",
    "version": 3
   },
   "file_extension": ".py",
   "mimetype": "text/x-python",
   "name": "python",
   "nbconvert_exporter": "python",
   "pygments_lexer": "ipython3",
   "version": "3.7.3"
  }
 },
 "nbformat": 4,
 "nbformat_minor": 2
}
