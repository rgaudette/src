{
 "metadata": {
  "name": "Untitled0"
 },
 "nbformat": 3,
 "nbformat_minor": 0,
 "worksheets": [
  {
   "cells": [
    {
     "cell_type": "markdown",
     "metadata": {},
     "source": [
      "This documents shows the operational differences between numpy arrays, matrices and scipy sparse matrices.  The cell below create a numpy array."
     ]
    },
    {
     "cell_type": "code",
     "collapsed": false,
     "input": [
      "A_array = array([[1.0, 1], [-1, 1], [-1, -1]])\n",
      "print_array_info(A_array)\n",
      "print A_array"
     ],
     "language": "python",
     "metadata": {},
     "outputs": [
      {
       "output_type": "stream",
       "stream": "stdout",
       "text": [
        "Type: <type 'numpy.ndarray'>\n",
        "Element data type: float64\n",
        "Shape: (3L, 2L)  size: 6  bytes used: 48\n",
        "[[ 1.  1.]\n",
        " [-1.  1.]\n",
        " [-1. -1.]]\n"
       ]
      }
     ],
     "prompt_number": 103
    },
    {
     "cell_type": "code",
     "collapsed": false,
     "input": [
      "x_vec = array([2, 3])\n",
      "print_array_info(x_vec)\n",
      "print x_vec"
     ],
     "language": "python",
     "metadata": {},
     "outputs": [
      {
       "output_type": "stream",
       "stream": "stdout",
       "text": [
        "Type: <type 'numpy.ndarray'>\n",
        "Element data type: int32\n",
        "Shape: (2L,)  size: 2  bytes used: 8\n",
        "[2 3]\n"
       ]
      }
     ],
     "prompt_number": 104
    },
    {
     "cell_type": "markdown",
     "metadata": {},
     "source": [
      "To multiply 2 arrays we need to use the numpy.dot function"
     ]
    },
    {
     "cell_type": "code",
     "collapsed": false,
     "input": [
      "y = np.dot(A_array, x_vec)\n",
      "print_array_info(y)\n",
      "print y"
     ],
     "language": "python",
     "metadata": {},
     "outputs": [
      {
       "output_type": "stream",
       "stream": "stdout",
       "text": [
        "Type: <type 'numpy.ndarray'>\n",
        "Element data type: float64\n",
        "Shape: (3L,)  size: 3  bytes used: 24\n",
        "[ 5.  1. -5.]\n"
       ]
      }
     ],
     "prompt_number": 105
    },
    {
     "cell_type": "markdown",
     "metadata": {},
     "source": [
      "The cell below creates a numpy matrix."
     ]
    },
    {
     "cell_type": "code",
     "collapsed": false,
     "input": [
      "M_matrix = matrix([[1.0, 1], [-1, 1], [-1, -1]])\n",
      "print_array_info(M_matrix)\n",
      "print M_matrix"
     ],
     "language": "python",
     "metadata": {},
     "outputs": [
      {
       "output_type": "stream",
       "stream": "stdout",
       "text": [
        "Type: <class 'numpy.matrixlib.defmatrix.matrix'>\n",
        "Element data type: float64\n",
        "Shape: (3L, 2L)  size: 6  bytes used: 48\n",
        "[[ 1.  1.]\n",
        " [-1.  1.]\n",
        " [-1. -1.]]\n"
       ]
      }
     ],
     "prompt_number": 106
    },
    {
     "cell_type": "markdown",
     "metadata": {},
     "source": [
      "The cell below creates all of the possible vectors that compatible with A."
     ]
    },
    {
     "cell_type": "code",
     "collapsed": false,
     "input": [],
     "language": "python",
     "metadata": {},
     "outputs": [],
     "prompt_number": 106
    },
    {
     "cell_type": "code",
     "collapsed": false,
     "input": [
      "A_times_x = A_array * x_vec\n",
      "print_array_info(A_times_x)\n",
      "A_dot_x = np.dot(A_array, x_vec)\n",
      "print_array_info(A_dot_x)"
     ],
     "language": "python",
     "metadata": {},
     "outputs": [
      {
       "output_type": "stream",
       "stream": "stdout",
       "text": [
        "Type: <type 'numpy.ndarray'>\n",
        "Element data type: float64\n",
        "Shape: (3L, 2L)  size: 6  bytes used: 48\n",
        "Type: <type 'numpy.ndarray'>\n",
        "Element data type: float64\n",
        "Shape: (3L,)  size: 3  bytes used: 24\n"
       ]
      }
     ],
     "prompt_number": 107
    },
    {
     "cell_type": "code",
     "collapsed": false,
     "input": [
      "M_dot_x = np.dot(M_matrix, x_vec)\n",
      "print print_array_info(M_dot_x)"
     ],
     "language": "python",
     "metadata": {},
     "outputs": [
      {
       "output_type": "stream",
       "stream": "stdout",
       "text": [
        "Type: <class 'numpy.matrixlib.defmatrix.matrix'>\n",
        "Element data type: float64\n",
        "Shape: (1L, 3L)  size: 3  bytes used: 24\n",
        "None\n"
       ]
      }
     ],
     "prompt_number": 108
    },
    {
     "cell_type": "code",
     "collapsed": false,
     "input": [
      "x_row_vec = x_vec.copy().reshape(1, 2)\n",
      "print_array_info(x_row_vec)\n",
      "print x_row_vec\n",
      "x_col_vec = x_vec.copy().reshape(2, 1)\n",
      "print_array_info(x_col_vec)\n",
      "print x_col_vec\n",
      "x_matrix = matrix([2, 3])\n",
      "print_array_info(x_matrix)\n",
      "print x_matrix"
     ],
     "language": "python",
     "metadata": {},
     "outputs": [
      {
       "output_type": "stream",
       "stream": "stdout",
       "text": [
        "Type: <type 'numpy.ndarray'>\n",
        "Element data type: int32\n",
        "Shape: (1L, 2L)  size: 2  bytes used: 8\n",
        "[[2 3]]\n",
        "Type: <type 'numpy.ndarray'>\n",
        "Element data type: int32\n",
        "Shape: (2L, 1L)  size: 2  bytes used: 8\n",
        "[[2]\n",
        " [3]]\n",
        "Type: <class 'numpy.matrixlib.defmatrix.matrix'>\n",
        "Element data type: int32\n",
        "Shape: (1L, 2L)  size: 2  bytes used: 8\n",
        "[[2 3]]\n"
       ]
      }
     ],
     "prompt_number": 109
    },
    {
     "cell_type": "heading",
     "level": 2,
     "metadata": {},
     "source": [
      "Appendix: Helper Functions"
     ]
    },
    {
     "cell_type": "code",
     "collapsed": false,
     "input": [
      "def print_array_info(a):\n",
      "    print(\"Type: {}\".format(a.__class__))\n",
      "    print(\"Element data type: {}\".format(a.dtype))\n",
      "    print(\"Shape: {}  size: {}  bytes used: {}\".format(a.shape, a.size, a.size * a.dtype.itemsize))"
     ],
     "language": "python",
     "metadata": {},
     "outputs": [],
     "prompt_number": 110
    }
   ],
   "metadata": {}
  }
 ]
}