{
 "cells": [
  {
   "cell_type": "code",
   "execution_count": 7,
   "id": "8e5a8d7f",
   "metadata": {},
   "outputs": [],
   "source": [
    "from numpy import *\n",
    "from scipy.ndimage import median_filter"
   ]
  },
  {
   "cell_type": "markdown",
   "id": "cb282192",
   "metadata": {},
   "source": [
    "The description of how the scipy median filter is not clear how the filter size works. Specifically, is it a radius or diameter?  To verify that I will first experiment with some specific examples."
   ]
  },
  {
   "cell_type": "code",
   "execution_count": 8,
   "id": "8173fbc6",
   "metadata": {},
   "outputs": [
    {
     "name": "stdout",
     "output_type": "stream",
     "text": [
      "[[ 0.  1.  2.  3.  4.  5.  6.  7.  8.]\n",
      " [ 9. 10. 11. 12. 13. 14. 15. 16. 17.]\n",
      " [18. 19. 20. 21. 22. 23. 24. 25. 26.]\n",
      " [27. 28. 29. 30. 31. 32. 33. 34. 35.]\n",
      " [36. 37. 38. 39. 40. 41. 42. 43. 44.]\n",
      " [45. 46. 47. 48. 49. 50. 51. 52. 53.]\n",
      " [54. 55. 56. 57. 58. 59. 60. 61. 62.]\n",
      " [63. 64. 65. 66. 67. 68. 69. 70. 71.]\n",
      " [72. 73. 74. 75. 76. 77. 78. 79. 80.]]\n",
      "\n",
      "[[ 0.  1.  2.  3.  4.  5.  6.  7.  0.]\n",
      " [ 1. 10. 11. 12. 13. 14. 15. 16.  8.]\n",
      " [10. 19. 20. 21. 22. 23. 24. 25. 17.]\n",
      " [19. 28. 29. 30. 31. 32. 33. 34. 26.]\n",
      " [28. 37. 38. 39. 40. 41. 42. 43. 35.]\n",
      " [37. 46. 47. 48. 49. 50. 51. 52. 44.]\n",
      " [46. 55. 56. 57. 58. 59. 60. 61. 53.]\n",
      " [55. 64. 65. 66. 67. 68. 69. 70. 62.]\n",
      " [ 0. 64. 65. 66. 67. 68. 69. 70.  0.]]\n"
     ]
    }
   ],
   "source": [
    "t = arange(81.0)\n",
    "t.shape = (9, 9)\n",
    "print(t)\n",
    "print(\"\")\n",
    "tm = median_filter(t, size=3, mode='constant', cval = 0.0)\n",
    "print(tm)"
   ]
  },
  {
   "cell_type": "markdown",
   "id": "440391c9",
   "metadata": {},
   "source": [
    "If the size is a diameter, that is a 3x3 region with the pixel of interest at the center, then the elements input into the 1,1 median location are 0.  1.  2.  9. 10. 11. 18. 19. 20. which has a median of 10\n",
    "\n",
    "for the 8,8 location the inputs are 60. 61. 62. 69. 70. 71. 78. 79. 80. which has a median of 70\n",
    "\n",
    "If the size is a radius such that elements contributing to the median are a 7x7 region then the 4,4 median location would have inputs of "
   ]
  },
  {
   "cell_type": "code",
   "execution_count": 9,
   "id": "c3e96ecf",
   "metadata": {},
   "outputs": [
    {
     "data": {
      "text/plain": [
       "30.0"
      ]
     },
     "execution_count": 9,
     "metadata": {},
     "output_type": "execute_result"
    }
   ],
   "source": [
    "v = [0.,  1.,  2.,  3.,  4.,  5.,  6., 9., 10., 11., 12., 13., 14., 15., 18., 19., 20., 21., 22., 23., 24., 27., 28., 29., 30., 31., 32., 33., 36., 37., 38., 39., 40., 41., 42., 45., 46., 47., 48., 49., 50., 51., 54., 55., 56., 57., 58., 59., 60.,]\n",
    "median(v)"
   ]
  },
  {
   "cell_type": "code",
   "execution_count": null,
   "id": "e346e4fc",
   "metadata": {},
   "outputs": [],
   "source": []
  }
 ],
 "metadata": {
  "kernelspec": {
   "display_name": "Python 3",
   "language": "python",
   "name": "python3"
  },
  "language_info": {
   "codemirror_mode": {
    "name": "ipython",
    "version": 3
   },
   "file_extension": ".py",
   "mimetype": "text/x-python",
   "name": "python",
   "nbconvert_exporter": "python",
   "pygments_lexer": "ipython3",
   "version": "3.9.9"
  }
 },
 "nbformat": 4,
 "nbformat_minor": 5
}
