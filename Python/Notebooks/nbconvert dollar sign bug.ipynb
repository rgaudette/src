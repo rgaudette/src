{
 "cells": [
  {
   "cell_type": "markdown",
   "metadata": {},
   "source": [
    "\n",
    "The decrease in intensity due to the spatial loss from one side of the absorber to the other is simply given by the ratio of the length of the sides of the absorber (for 2D geometries).  This can be easily seen by considering the case where μ is 0. By conservation of energy, the total energy on either side of the absorption object when μ=0 must be equivalent, therefore their energy density is related by the ratios of their lengths (or areas for 3 dimensions).  Because the geometry is described by congruent triangles, the ratio of their lengths is equivalent to the ratio to their distances from the source (extensions to 3D are described below). Thus, the decrease in x-ray intensity is given by the equation\n",
    "\n",
    "$$\n",
    "\\begin{aligned}\n",
    "I_{out}(x, y_2) =& \\frac{y_1}{y_2} \\: I_{in}(x', y_1) \\qquad x' = \\frac{y_1} {y_2} x \\qquad \\qquad x_3 \\le x \\le x_4 \\\\\n",
    "I_{out}(x, y_2) =& \\frac{y_1}{y_2} \\: \\frac{1}{\\sqrt{\\left(x \\frac{y_1} {y_2} \\right)^2 + y_1^2}} \\: P(\\arctan2(y_2, x)).\n",
    "\\end{aligned}\n",
    "$$"
   ]
  },
  {
   "cell_type": "markdown",
   "metadata": {},
   "source": [
    "When we combine the absorption and geometric effects, the resulting equation describing the x-ray intensity at the far side of the absorber is given by\n",
    "\n",
    "$$\n",
    "\\begin{aligned}\n",
    "I_{out}(x, y_2) =& \\frac{y_1}{y_2} \\:\n",
    " \\frac{1}{\\sqrt{\\left(x \\frac{y_1} {y_2} \\right) ^2 + y_1^2}} \\:\n",
    "  P(\\arctan2((y_2, x)) \\:\n",
    "   e^{- \\int_0^l \\mu(p) dp} \\qquad \n",
    "   x_3 \\le x \\le x_4 \\\\\n",
    "\n",
    "=& \\frac{y_1}{y_2} \\:\n",
    "\\frac{1}{\\sqrt{\\left(x \\frac{y_1} {y_2}\\right)^2 + y_1^2}} \\:\n",
    " P(\\arctan2(y_2, x)) \\:\n",
    "  e^{- \\int_0^{\\frac{t} {\\sin \\phi}} \\mu dp} \\\\\n",
    "\n",
    "=& \\frac{y_1}{y_2} \\: \n",
    "\\frac{1}{\\sqrt{\\left(x \\frac{y_1} {y_2} \\right)^2 + y_1^2}} \\: \n",
    "P(\\arctan2(y_2, x)) \\: e^{- \\int_0^{\\frac{t} {\\sin (\\arctan2(y_2, x)}} \\mu dp} \\\\\n",
    "\n",
    "I_{out}(x, y_2) =& \\frac{y_1}{y_2} \\:\n",
    "\\frac{1}{\\sqrt{\\left(x \\frac{y_1} {y_2} \\right)^2 + y_1^2}} \\:\n",
    " P(\\arctan2(y_2, x)) \\:\n",
    "  e^{-\\frac{t} {\\sin (\\arctan2(y_2, x)} \\mu}.\n",
    "\n",
    "\\end{aligned}\n",
    "$$"
   ]
  }
 ],
 "metadata": {
  "language_info": {
   "name": "python"
  },
  "orig_nbformat": 4
 },
 "nbformat": 4,
 "nbformat_minor": 2
}
