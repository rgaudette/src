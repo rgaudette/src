{
 "cells": [
  {
   "cell_type": "markdown",
   "metadata": {},
   "source": [
    "To use UTF characters we need to use fonts that support them, some TTF fonts appear to support UTF. We can select those fonts by inserting commands in the preamble of the document such as\n",
    "\n",
    "    \\setmainfont{Cambria}\n",
    "    \\setsansfont{Calibri}\n",
    "    \\setmonofont{Consolas}\n",
    "\n",
    "Greek alphabet\n",
    "\n",
    "α, β, γ, δ, ϵ, ζ, η, θ, ι, κ, λ, μ, ν, o, π, ρ, σ, τ, υ, ϕ, χ, ψ, ω\n",
    "\n",
    "Α, Β, Γ, Δ, Ε, Ζ, Η, Θ, Ι, Κ, Λ, M, N, O, Π, Ρ, Σ, Τ, Υ, Φ, Χ, Ψ, Ω\n",
    "\n",
    "Some math characters\n",
    "\n",
    "⤋, ≈, ⟹, ⟸, ≡, ⩴, ≤, ≥, ÷, ∇"
   ]
  },
  {
   "cell_type": "markdown",
   "metadata": {},
   "source": []
  }
 ],
 "metadata": {
  "language_info": {
   "name": "python"
  },
  "orig_nbformat": 4
 },
 "nbformat": 4,
 "nbformat_minor": 2
}
