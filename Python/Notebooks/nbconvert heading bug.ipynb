{
 "cells": [
  {
   "cell_type": "markdown",
   "metadata": {},
   "source": [
    "# Heading"
   ]
  },
  {
   "cell_type": "markdown",
   "metadata": {},
   "source": [
    "## Sub-heading"
   ]
  },
  {
   "cell_type": "markdown",
   "metadata": {},
   "source": [
    "### Sub-sub-heading"
   ]
  },
  {
   "cell_type": "markdown",
   "metadata": {},
   "source": [
    "  ### X-Ray Intensity At The Near Absorber Surface\n",
    "\n",
    "  When the heading above is in it's own cell, it renders correctly using nbconvert --to latex, when it is in the same cell as this text the markdown leaks through to the .tex file.\n",
    "  \n",
    "  First, we need to find the x-ray intensity at the surface of the absorber, which is given the equation above in polar coordinates.  The location of the top of the absorbing layer is more conveniently expressed in cartesian coordinates by the parametric equations\n",
    "\n",
    "$$\n",
    "\\begin{aligned}\n",
    "x& = x \\qquad x_1 \\le x \\le x_2 \\\\\n",
    "y& = y_1.\n",
    "\\end{aligned}\n",
    "$$\n",
    "\n",
    "The relationship between polar and cartesian is given by the pair of equations\n",
    "\n",
    "$$\n",
    "\\begin{aligned}\n",
    "r =& \\sqrt{x^2 + y^2} \\\\\n",
    "\\phi =& \\arctan2(y, x).\n",
    "\\end{aligned}\n",
    "$$\n",
    "\n",
    "We can convert the free space x-ray intensity function to cartesian coordinates with 2 dimensions, given by\n",
    "\n",
    "$$\n",
    "I(x, y) = \\frac{1}{\\sqrt{x^2 + y^2}} \\: P(\\arctan2(y,x)).\n",
    "$$\n",
    "\n",
    "Substituting in the location of the top surface of the slab into the equation above gives us the x-ray intensity at the surface of the absorber \n",
    "\n",
    "$$\n",
    "I(x; y_1) = \\frac{1}{\\sqrt{ x^2 + y_1^2}} \\: P(\\arctan2(y_1, x)) \\quad \\quad x_1 \\le x \\le x_2.\n",
    "$$\n",
    "\n",
    "Since the angle axis for the v810 system is typically defined relative the center of the x-ray beam (in the -y direction in the 2D simulation, in the -z direction in the real machine), we need to define another angular variable, $\\gamma$, with a -90 degree rotation relative to $\\phi$\n",
    "\n",
    "$$\n",
    "\\gamma = \\phi + \\frac{\\pi}{2} \n",
    "$$"
   ]
  },
  {
   "cell_type": "markdown",
   "metadata": {},
   "source": []
  }
 ],
 "metadata": {
  "language_info": {
   "name": "python"
  },
  "orig_nbformat": 4
 },
 "nbformat": 4,
 "nbformat_minor": 2
}
