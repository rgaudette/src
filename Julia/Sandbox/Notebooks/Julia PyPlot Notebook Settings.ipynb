{
 "cells": [
  {
   "cell_type": "markdown",
   "metadata": {
    "slideshow": {
     "slide_type": "slide"
    }
   },
   "source": [
    "# Julia PyPlot Notebook Settings\n",
    "How to generate high quality plots, documents, and slides within Julia notebooks using PyPlot and export the notebooks to different file formats."
   ]
  },
  {
   "cell_type": "code",
   "execution_count": null,
   "metadata": {
    "slideshow": {
     "slide_type": "fragment"
    }
   },
   "outputs": [],
   "source": [
    "using PyPlot\n",
    "using Random\n",
    "using TiffImages"
   ]
  },
  {
   "cell_type": "markdown",
   "metadata": {
    "slideshow": {
     "slide_type": "slide"
    }
   },
   "source": [
    "## Exporting to pdf, html, docx (Microsoft Word 2007?) and odt (LibreOffice) formats\n",
    "VS Code has an export to PDF or HTML document formats (see the ... entry after Outline in the top menu bar of the note).  Unfortunately for PDFs, there appears to be no way modify the code/verbatim font size and it is ridiculously large. I tried a number of suggestions from copilot and claude and none of them\n",
    "\n",
    "- copilot suggestion\n",
    "\n",
    "`jupyter.exe nbconvert --to pdf --CSSHTMLHeaderPreprocessor.enabled=true --CSSHTMLHeaderPreprocessor.style=\"custom.css\" --output \".\\Julia PyPlot Notebook Settings nbconvert.pdf\" \".\\Julia PyPlot Notebook Settings.ipynb\"`\n",
    "\n",
    "- claude suggestion\n",
    "\n",
    "`jupyter.exe nbconvert --to pdf --template classic --TemplateExporter.extra_template_basedirs=. --TemplateExporter.extra_template_paths=. --output \".\\Julia PyPlot Notebook Settings nbconvert.pdf\" \".\\Julia PyPlot Notebook Settings.ipynb\"`\n",
    "\n",
    "- using pandoc to generate odt (LibreOffice) files use the command below\n",
    "  - modify the custom-reference.odt as required\n",
    "  - code blocks use the Preformatted Text paragraph style\n",
    "  - verbatim markdown uses the Source_Text character style\n",
    "\n",
    "`pandoc --from=ipynb --to=odt --reference-doc=custom-reference.odt -o --filter filter-slide-only.py \"Julia PyPlot Notebook Settings pandoc.odt\" \"Julia PyPlot Notebook Settings.ipynb\"`\n",
    "\n",
    "- using pandoc to generate docx\n",
    "  - again, modify the custom-reference.docx as required\n",
    "  - code blocks use the Preformatted Text paragraph style but the style values are not taken from the custom-reference.docx file, they also use the Verbatim Char character style which is taken from the custom-reference.docx\n",
    "\n",
    "`pandoc --from=ipynb --to=docx --reference-doc=custom-reference.docx -o --filter filter-slide-only.py \"Julia PyPlot Notebook Settings pandoc.docx\" \"Julia PyPlot Notebook Settings.ipynb\"`\n",
    "\n",
    "- using pandoc to generate PDFs"
   ]
  },
  {
   "cell_type": "markdown",
   "metadata": {
    "slideshow": {
     "slide_type": "slide"
    }
   },
   "source": [
    "## Creating Slides Using nbconvert\n",
    "Using jupyter-nbconvert relies on at least 2 config files to define the slide appearance and function\n",
    "* ~/.jupyter/custom/custom.css\n",
    "* ~/.jupyter/jupyter_nbconvert_config.py\n",
    "the command line can also overwrite the settings in jupyter_nbconvert_config.py.\n",
    "\n",
    "A typical command line is\n",
    "\n",
    "`jupyter nbconvert '.\\Julia PyPlot Notebook Settings.ipynb' --to slides --no-input --TagRemovePreprocessor.remove_input_tags='{\"document\", \"hide-code\"}' --post serve --SlidesExporter.reveal_width=3840 --SlidesExporter.reveal_height=2160`\n",
    "\n",
    "where the width and height is that of the display to be used for the presentation."
   ]
  },
  {
   "cell_type": "markdown",
   "metadata": {},
   "source": [
    "## Managing The Text And Graphics Image Size\n",
    "Starting with display resolution and size, my desktop has 23.8\" monitors with 4K (3840 x 2160) resolution (16x9 aspect ratio).  The Dell laptop has a 15. (3456x2160)."
   ]
  },
  {
   "cell_type": "code",
   "execution_count": null,
   "metadata": {},
   "outputs": [],
   "source": [
    "display_rows = 3840\n",
    "display_cols = 2160\n",
    "display_diagonal_inches = 23.8\n",
    "desktop_ppi = sqrt(display_rows^2 + display_cols^2) / display_diagonal_inches"
   ]
  },
  {
   "cell_type": "markdown",
   "metadata": {
    "slideshow": {
     "slide_type": "slide"
    }
   },
   "source": [
    "## Modify the default plot settings\n",
    "The following code block makes for better quality plots than the default and allow for dark/light selection."
   ]
  },
  {
   "cell_type": "code",
   "execution_count": null,
   "metadata": {
    "slideshow": {
     "slide_type": "fragment"
    }
   },
   "outputs": [],
   "source": [
    "# Dark or light mode settings, is there a better way to do this?  Probably Matplotlib style sheets\n",
    "dark_mode = false\n",
    "if dark_mode\n",
    "    # plt.style.use(\"dark_background\")\n",
    "    foreground_color = \"FFFF80\"\n",
    "    background_color = \"gray\"\n",
    "else\n",
    "    # is this really what I want?\n",
    "    plt.style.use(\"default\")\n",
    "    foreground_color = \"faffb0\"\n",
    "    background_color = \"gray\"\n",
    "end\n",
    "plt.rc(\"figure\", facecolor=background_color)\n",
    "plt.rc(\"text\", color=foreground_color)\n",
    "plt.rc(\"axes\", facecolor=background_color)\n",
    "plt.rc(\"axes\", edgecolor=foreground_color)\n",
    "plt.rc(\"axes\", labelcolor=foreground_color)\n",
    "plt.rc(\"axes\", labelcolor=foreground_color)\n",
    "plt.rc(\"xtick\", color=foreground_color)\n",
    "plt.rc(\"xtick\", labelcolor=foreground_color)\n",
    "plt.rc(\"ytick\", color=foreground_color)\n",
    "plt.rc(\"ytick\", labelcolor=foreground_color)\n",
    "\n",
    "# This needs to be set to prevent double plotting in jupyter (lab) notebooks\n",
    "PyPlot.isjulia_display[] = false\n",
    "\n",
    "plt.rc(\"figure\", dpi=desktop_ppi)\n",
    "# For with a single figure and header, this works well for images but leaves too much space for plots\n",
    "plt.rc(\"figure\", figsize=(16, 8))\n",
    "\n",
    "# savefig.dpi is what sets the resolution of the displayed image in jupyter notebooks\n",
    "# What is the minimum dpi that renders fonts and plots well? For crisp fonts, it seems that 600 dpi is required\n",
    "# What is the minimum dpi that renders full size images well, without artifacts? It seems to be about 600 dpi\n",
    "plt.rc(\"savefig\", dpi=600)\n",
    "plt.rc(\"savefig\", bbox=\"tight\")\n",
    "plt.rc(\"figure\", max_open_warning=false)\n",
    "plt.rc(\"font\", size=5)\n",
    "plt.rc(\"lines\", linewidth=0.75)\n",
    "plt.rc(\"lines\", markersize=3)\n",
    "# new_color_cycle = [\"ff7f0e\", \"1f77b4\", \"2ca02c\", \"d62728\", \"9467bd\", \"8c564b\", \"e377c2\", \"7f7f7f\", \"bcbd22\", \"17becf\"]\n",
    "# plt.rc(\"axes\", prop_cycle=plt.matplotlib.cycler(color=new_color_cycle))\n",
    ";"
   ]
  },
  {
   "cell_type": "markdown",
   "metadata": {
    "slideshow": {
     "slide_type": "slide"
    }
   },
   "source": [
    "## Output from a small array"
   ]
  },
  {
   "cell_type": "code",
   "execution_count": null,
   "metadata": {
    "slideshow": {
     "slide_type": "fragment"
    }
   },
   "outputs": [],
   "source": [
    "randn(3, 4)"
   ]
  },
  {
   "cell_type": "markdown",
   "metadata": {
    "slideshow": {
     "slide_type": "slide"
    }
   },
   "source": [
    "## A simple plot"
   ]
  },
  {
   "cell_type": "code",
   "execution_count": null,
   "metadata": {
    "slideshow": {
     "slide_type": "fragment"
    },
    "tags": [
     "hide-code"
    ]
   },
   "outputs": [],
   "source": [
    "z1 = randn(50)\n",
    "z2 = randn(50)\n",
    "z3 = randn(50)\n",
    "fig = figure()\n",
    "plot(z1, \"-o\", label=\"z_1\")\n",
    "plot(z2, \"-.d\", label=\"z_2\")\n",
    "plot(z3, \"--s\", label=\"z_3\")\n",
    "grid(true)\n",
    "xlabel(\"x-axis\")\n",
    "ylabel(\"y-axis\")\n",
    "legend()\n",
    "title(\"DPI = $(PyPlot.gcf().dpi)\")\n",
    "display(gcf());"
   ]
  },
  {
   "cell_type": "markdown",
   "metadata": {
    "slideshow": {
     "slide_type": "slide"
    }
   },
   "source": [
    "## A simple histogram"
   ]
  },
  {
   "cell_type": "code",
   "execution_count": null,
   "metadata": {
    "slideshow": {
     "slide_type": "fragment"
    },
    "tags": [
     "hide-code"
    ]
   },
   "outputs": [],
   "source": [
    "z = randn(1536, 1944)\n",
    "figure()\n",
    "hist_bins = collect(range(-5.0, 5.0, length=500))\n",
    "hist(z[:], bins=hist_bins, color=\"g\")\n",
    "grid(true)\n",
    "xlim(extrema(hist_bins))\n",
    "xlabel(\"Value\")\n",
    "ylabel(\"Count\")\n",
    "title(\"Dark Current Histogram\")\n",
    "display(gcf())"
   ]
  },
  {
   "cell_type": "markdown",
   "metadata": {
    "slideshow": {
     "slide_type": "slide"
    }
   },
   "source": [
    "## Display an image using imshow"
   ]
  },
  {
   "cell_type": "code",
   "execution_count": null,
   "metadata": {
    "slideshow": {
     "slide_type": "fragment"
    },
    "tags": [
     "hide-code"
    ]
   },
   "outputs": [],
   "source": [
    "figure()\n",
    "imshow(z, cmap=\"gray\")\n",
    "xlabel(\"x-axis\")\n",
    "ylabel(\"y-axis\")\n",
    "title(\"Normally distributed random numbers\")\n",
    "colorbar()\n",
    "display(gcf())"
   ]
  },
  {
   "cell_type": "markdown",
   "metadata": {
    "slideshow": {
     "slide_type": "slide"
    }
   },
   "source": [
    "## Display an image using pcolormesh"
   ]
  },
  {
   "cell_type": "code",
   "execution_count": null,
   "metadata": {
    "slideshow": {
     "slide_type": "fragment"
    },
    "tags": [
     "hide-code"
    ]
   },
   "outputs": [],
   "source": [
    "x_range = collect(1:size(z, 2))\n",
    "y_range = collect(1:size(z, 1))\n",
    "vmin = minimum(z)\n",
    "vmax = maximum(z)\n",
    "\n",
    "figure()\n",
    "pcolormesh(x_range, y_range, z, cmap=\"gray\", vmin=vmin, vmax=vmax, shading=\"nearest\")\n",
    "gca().invert_yaxis()\n",
    "axis(\"image\")\n",
    "grid(true)\n",
    "xlabel(\"x\")\n",
    "ylabel(\"y\")\n",
    "colorbar()\n",
    "title(\"Normally distributed random numbers\")\n",
    "display(gcf())"
   ]
  },
  {
   "cell_type": "markdown",
   "metadata": {
    "slideshow": {
     "slide_type": "slide"
    }
   },
   "source": [
    "## Image with high frequency info"
   ]
  },
  {
   "cell_type": "code",
   "execution_count": null,
   "metadata": {
    "slideshow": {
     "slide_type": "fragment"
    },
    "tags": [
     "hide-code"
    ]
   },
   "outputs": [],
   "source": [
    "hf_image = Float32.(TiffImages.load(\"bias.tiff\"))\n",
    "x_range = collect(1:size(hf_image, 2))\n",
    "y_range = collect(1:size(hf_image, 1))\n",
    "vmin = minimum(hf_image)\n",
    "vmax = maximum(hf_image)\n",
    "\n",
    "figure()\n",
    "pcolormesh(x_range, y_range, hf_image, cmap=\"gray\", vmin=vmin, vmax=vmax, shading=\"nearest\")\n",
    "gca().invert_yaxis()\n",
    "axis(\"image\")\n",
    "# grid(true)\n",
    "xlabel(\"column index\")\n",
    "ylabel(\"row index\")\n",
    "colorbar()\n",
    "title(\"Image with high frequency information\")\n",
    "display(gcf())"
   ]
  }
 ],
 "metadata": {
  "kernelspec": {
   "display_name": "Julia 1.10.5",
   "language": "julia",
   "name": "julia-1.10"
  },
  "language_info": {
   "file_extension": ".jl",
   "mimetype": "application/julia",
   "name": "julia",
   "version": "1.10.5"
  }
 },
 "nbformat": 4,
 "nbformat_minor": 4
}
