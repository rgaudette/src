{
 "cells": [
  {
   "cell_type": "code",
   "execution_count": 2,
   "metadata": {},
   "outputs": [],
   "source": [
    "using FastGaussQuadrature\n",
    "using LinearAlgebra\n",
    "using Printf\n",
    "using PyCall\n",
    "pygui(:qt5)\n",
    "using PyPlot"
   ]
  },
  {
   "cell_type": "code",
   "execution_count": 3,
   "metadata": {},
   "outputs": [
    {
     "name": "stdout",
     "output_type": "stream",
     "text": [
      "  0.002238 seconds (10 allocations: 2.622 MiB)\n"
     ]
    }
   ],
   "source": [
    "@time nodes, weights = gausslegendre(100000);"
   ]
  },
  {
   "cell_type": "code",
   "execution_count": 4,
   "metadata": {},
   "outputs": [
    {
     "name": "stdout",
     "output_type": "stream",
     "text": [
      "  0.056002 seconds (250.19 k allocations: 14.741 MiB, 98.63% compilation time)\n"
     ]
    },
    {
     "data": {
      "text/plain": [
       "0.6666666666666667"
      ]
     },
     "execution_count": 4,
     "metadata": {},
     "output_type": "execute_result"
    }
   ],
   "source": [
    "# integrates f(x) = x^2 from -1 to 1\n",
    "@time dot(weights, nodes.^2)"
   ]
  },
  {
   "cell_type": "markdown",
   "metadata": {},
   "source": [
    "Compute the integral of a well known function\n",
    "\n",
    "$$\n",
    "\\int_{-1}^{1} e^{\\alpha x} dx = \\frac{e^{\\alpha x}}{\\alpha}\\Bigg\\lvert_{-1}^{1}\n",
    "$$"
   ]
  },
  {
   "cell_type": "code",
   "execution_count": 5,
   "metadata": {},
   "outputs": [
    {
     "data": {
      "text/plain": [
       "6.678583284939935"
      ]
     },
     "execution_count": 5,
     "metadata": {},
     "output_type": "execute_result"
    }
   ],
   "source": [
    "α = 3.0\n",
    "exp(α * 1) / α - exp(α * -1) / α"
   ]
  },
  {
   "cell_type": "code",
   "execution_count": 6,
   "metadata": {},
   "outputs": [
    {
     "data": {
      "text/plain": [
       "6.678583284939933"
      ]
     },
     "execution_count": 6,
     "metadata": {},
     "output_type": "execute_result"
    }
   ],
   "source": [
    "dot(weights, exp.(α .* nodes))"
   ]
  },
  {
   "cell_type": "markdown",
   "metadata": {},
   "source": [
    "Now, how do we integrate over a different range?  From the wikipedia page for Gaussian Quadrature https://en.wikipedia.org/wiki/Gaussian_quadrature,\n",
    "\n",
    "_An integral over [a, b] must be changed into an integral over [−1, 1] before applying the Gaussian quadrature rule. This change of interval can be done in the following way:_\n",
    "\n",
    "$$ \n",
    "\\int _{a}^{b}f(x)\\,dx=\\int _{-1}^{1}f\\left({\\frac {b-a}{2}}\\xi +{\\frac {a+b}{2}}\\right)\\,{\\frac {dx}{d\\xi }}d\\xi \n",
    "$$\n",
    "\n",
    "_with_\n",
    "\n",
    "$$\n",
    " {\\frac {dx}{d\\xi }}={\\frac {b-a}{2}}\n",
    "$$\n",
    "\n",
    "_Applying $n$ point Gaussian quadrature $(\\xi ,w)$ rule then results in the following approximation:_\n",
    "\n",
    "$$ \\int _{a}^{b}f(x)\\,dx\\approx {\\frac {b-a}{2}}\\sum _{i=1}^{n}w_{i}f\\left({\\frac {b-a}{2}}\\xi _{i}+{\\frac {a+b}{2}}\\right).\n",
    "$$"
   ]
  },
  {
   "cell_type": "markdown",
   "metadata": {},
   "source": [
    "This if we want to solve\n",
    "\n",
    "$$\n",
    "\\int_{4}^{5} e^{\\alpha x} dx = \\frac{e^{\\alpha x}}{\\alpha}\\Bigg\\lvert_{4}^{5}\n",
    "$$\n"
   ]
  },
  {
   "cell_type": "code",
   "execution_count": 24,
   "metadata": {},
   "outputs": [
    {
     "data": {
      "text/plain": [
       "134.4754382468528"
      ]
     },
     "execution_count": 24,
     "metadata": {},
     "output_type": "execute_result"
    }
   ],
   "source": [
    "α = 3.0\n",
    "a = -2.0\n",
    "b = 2.0\n",
    "exp(α * b) / α - exp(α * a) / α"
   ]
  },
  {
   "cell_type": "code",
   "execution_count": 25,
   "metadata": {},
   "outputs": [
    {
     "data": {
      "text/plain": [
       "134.47543824685275"
      ]
     },
     "execution_count": 25,
     "metadata": {},
     "output_type": "execute_result"
    }
   ],
   "source": [
    "modified_nodes = (b - a) / 2 .* nodes .+ (a + b) / 2\n",
    "(b - a) / 2 .* dot(weights, exp.(α .* modified_nodes))"
   ]
  },
  {
   "cell_type": "markdown",
   "metadata": {},
   "source": [
    "Compute the integral of a function of interest for our forward problem\n",
    "$$\n",
    "\\int_{-1}^{1} \\frac{1}{\\sqrt{x^2 + \\alpha^2}} dx = asinh \\frac{x}{\\lvert \\alpha \\rvert} \\Bigg\\lvert_{-1}^{1}\n",
    "$$"
   ]
  },
  {
   "cell_type": "markdown",
   "metadata": {},
   "source": []
  },
  {
   "cell_type": "code",
   "execution_count": 27,
   "metadata": {},
   "outputs": [
    {
     "data": {
      "text/plain": [
       "0.6549003004745169"
      ]
     },
     "execution_count": 27,
     "metadata": {},
     "output_type": "execute_result"
    }
   ],
   "source": [
    "α = 3.0\n",
    "a = -1.0\n",
    "b = 1.0\n",
    "asinh(b / abs(α)) - asinh(a / abs(α))"
   ]
  },
  {
   "cell_type": "code",
   "execution_count": 29,
   "metadata": {},
   "outputs": [
    {
     "data": {
      "text/plain": [
       "0.6549003004745169"
      ]
     },
     "execution_count": 29,
     "metadata": {},
     "output_type": "execute_result"
    }
   ],
   "source": [
    "dot(weights, 1 ./ sqrt.(nodes.^2 .+ α^2))"
   ]
  },
  {
   "cell_type": "markdown",
   "metadata": {},
   "source": [
    "$$\n",
    "\\int_{a}^{b} \\frac{1}{\\sqrt{x^2 + \\alpha^2}} dx = asinh \\frac{x}{\\lvert \\alpha \\rvert} \\Bigg\\lvert_{a}^{b}\n",
    "$$"
   ]
  },
  {
   "cell_type": "code",
   "execution_count": 31,
   "metadata": {},
   "outputs": [
    {
     "data": {
      "text/plain": [
       "1.2502902345008333"
      ]
     },
     "execution_count": 31,
     "metadata": {},
     "output_type": "execute_result"
    }
   ],
   "source": [
    "a = -2.0\n",
    "b = 2.0\n",
    "asinh(b / abs(α)) - asinh(a / abs(α))"
   ]
  },
  {
   "cell_type": "code",
   "execution_count": 32,
   "metadata": {},
   "outputs": [
    {
     "data": {
      "text/plain": [
       "1.250290234500833"
      ]
     },
     "execution_count": 32,
     "metadata": {},
     "output_type": "execute_result"
    }
   ],
   "source": [
    "modified_nodes = (b - a) / 2 .* nodes .+ (a + b) / 2\n",
    "(b - a) / 2 .* dot(weights, 1 ./ sqrt.(modified_nodes.^2 .+ α^2))"
   ]
  },
  {
   "cell_type": "code",
   "execution_count": null,
   "metadata": {},
   "outputs": [],
   "source": []
  }
 ],
 "metadata": {
  "kernelspec": {
   "display_name": "Julia 1.7.2",
   "language": "julia",
   "name": "julia-1.7"
  },
  "language_info": {
   "file_extension": ".jl",
   "mimetype": "application/julia",
   "name": "julia",
   "version": "1.7.2"
  },
  "orig_nbformat": 4
 },
 "nbformat": 4,
 "nbformat_minor": 2
}
